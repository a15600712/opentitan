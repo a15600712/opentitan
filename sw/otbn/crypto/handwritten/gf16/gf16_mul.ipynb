{
 "cells": [
  {
   "cell_type": "code",
   "execution_count": null,
   "metadata": {},
   "outputs": [
    {
     "name": "stdout",
     "output_type": "stream",
     "text": [
      "a   = 0x0000000000000000000000000000000000000000000000009abcdef012345678\n",
      "b   = 0x2\n",
      "r   = 0x000000000000000000000000000000000000000000000000175b9fd02468ace3\n"
     ]
    }
   ],
   "source": [
    "def gf16v_mul_256(a: int, b: int) -> int:\n",
    "    \"\"\"\n",
    "    Multiplies a (256-bit) 'a' by a 4-bit 'b' under GF(16).\n",
    "    \n",
    "    :param a: 256-bit integer (Python int).\n",
    "    :param b: 4-bit integer (0 <= b <= 0xF).\n",
    "    :return:  256-bit integer result of the GF(16) multiply.\n",
    "    \"\"\"\n",
    "    # For 256-bit, extend the \"0x8 nibble\" pattern across 64 hex digits.\n",
    "    mask_msb = 0x8888888888888888888888888888888888888888888888888888888888888888\n",
    "\n",
    "    # Ensure 'a' is in 256-bit range; ensure 'b' is in 4-bit range.\n",
    "    a &= (1 << 256) - 1\n",
    "    b &= 0xF\n",
    "\n",
    "    result = 0\n",
    "\n",
    "    # We have 4 bits in 'b', so iterate for i in {0,1,2,3}.\n",
    "    for i in range(4):\n",
    "        # If the i-th bit of b is set, XOR 'a' into result.\n",
    "        if (b >> i) & 1:\n",
    "            result ^= a\n",
    "\n",
    "        # The standard GF(16) step:\n",
    "        #  1) Extract top bits in each nibble (where bit 3 is set).\n",
    "        a_msb = a & mask_msb\n",
    "        #  2) Clear them from 'a'.\n",
    "        a ^= a_msb\n",
    "        #  3) Shift left by 1 (multiply by x).\n",
    "        a <<= 1\n",
    "        #  4) For all nibble MSBs that overflowed, shift them down by 3 bits\n",
    "        #     to align with the nibble's LSB, then multiply by 3 and XOR.\n",
    "        a ^= (a_msb >> 3) * 3\n",
    "\n",
    "        # If you want to strictly stay within 256 bits, mask again:\n",
    "        a &= (1 << 256) - 1\n",
    "\n",
    "    # Mask result as well, if you want a strict 256-bit result.\n",
    "    return result & ((1 << 256) - 1)\n",
    "\n",
    "def main():\n",
    "    # Example usage:\n",
    "    # 256-bit 'a', with a sample big hex value:\n",
    "    a_256 = 0x9ABCDEF0123456789ABCDEF0123456789ABCDEF0123456789ABCDEF012345678\n",
    "    # 4-bit 'b' in GF(16):\n",
    "    b_4   = 0xF\n",
    "\n",
    "    product = gf16v_mul_256(a_256, b_4)\n",
    "    \n",
    "    print(f\"a   = 0x{a_256:064x}\")\n",
    "    print(f\"b   = 0x{b_4:x}\")\n",
    "    print(f\"r   = 0x{product:064x}\")\n",
    "\n",
    "if __name__ == \"__main__\":\n",
    "    main()\n"
   ]
  },
  {
   "cell_type": "code",
   "execution_count": null,
   "metadata": {},
   "outputs": [],
   "source": []
  }
 ],
 "metadata": {
  "kernelspec": {
   "display_name": "Python 3",
   "language": "python",
   "name": "python3"
  },
  "language_info": {
   "codemirror_mode": {
    "name": "ipython",
    "version": 3
   },
   "file_extension": ".py",
   "mimetype": "text/x-python",
   "name": "python",
   "nbconvert_exporter": "python",
   "pygments_lexer": "ipython3",
   "version": "3.10.12"
  }
 },
 "nbformat": 4,
 "nbformat_minor": 2
}
