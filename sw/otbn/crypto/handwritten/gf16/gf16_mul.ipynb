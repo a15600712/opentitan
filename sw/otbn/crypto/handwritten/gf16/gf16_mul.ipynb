{
 "cells": [
  {
   "cell_type": "code",
   "execution_count": 6,
   "metadata": {},
   "outputs": [],
   "source": [
    "def gf16v_mul_256(a: int, b: int) -> int:\n",
    "    \"\"\"\n",
    "    Multiplies a (256-bit) 'a' by a 4-bit 'b' under GF(16).\n",
    "    \n",
    "    :param a: 256-bit integer (Python int).\n",
    "    :param b: 4-bit integer (0 <= b <= 0xF).\n",
    "    :return:  256-bit integer result of the GF(16) multiply.\n",
    "    \"\"\"\n",
    "    # For 256-bit, extend the \"0x8 nibble\" pattern across 64 hex digits.\n",
    "    mask_msb = 0x8888888888888888888888888888888888888888888888888888888888888888\n",
    "\n",
    "    # Ensure 'a' is in 256-bit range; ensure 'b' is in 4-bit range.\n",
    "    a &= (1 << 256) - 1\n",
    "    b &= 0xF\n",
    "\n",
    "    result = 0\n",
    "\n",
    "    # We have 4 bits in 'b', so iterate for i in {0,1,2,3}.\n",
    "    for i in range(4):\n",
    "        # If the i-th bit of b is set, XOR 'a' into result.\n",
    "        if (b >> i) & 1:\n",
    "            result ^= a\n",
    "\n",
    "        # The standard GF(16) step:\n",
    "        #  1) Extract top bits in each nibble (where bit 3 is set).\n",
    "        a_msb = a & mask_msb\n",
    "        #  2) Clear them from 'a'.\n",
    "        a ^= a_msb\n",
    "        #  3) Shift left by 1 (multiply by x).\n",
    "        a <<= 1\n",
    "        #  4) For all nibble MSBs that overflowed, shift them down by 3 bits\n",
    "        #     to align with the nibble's LSB, then multiply by 3 and XOR.\n",
    "        a ^= (a_msb >> 3) * 3\n",
    "\n",
    "        # If you want to strictly stay within 256 bits, mask again:\n",
    "        a &= (1 << 256) - 1\n",
    "\n",
    "    # Mask result as well, if you want a strict 256-bit result.\n",
    "    return result & ((1 << 256) - 1)\n",
    "\n",
    "\n"
   ]
  },
  {
   "cell_type": "code",
   "execution_count": 10,
   "metadata": {},
   "outputs": [
    {
     "name": "stdout",
     "output_type": "stream",
     "text": [
      "w0 = 0xddddddddffffffff99999999bbbbbbbb55555555777777772222222200000000\n"
     ]
    }
   ],
   "source": [
    "def main():\n",
    "    # Example usage:\n",
    "    # 256-bit 'a', with a sample big hex value:\n",
    "    a_256 = 0xffffffffeeeeeeeeddddddddccccccccbbbbbbbbaaaaaaaa1111111100000000\n",
    "    # 4-bit 'b' in GF(16):\n",
    "    b_4   = 0x2\n",
    "\n",
    "    # for i in range(0x10):\n",
    "    product = gf16v_mul_256(a_256, b_4)\n",
    "    # print(f\"a   = 0x{a_256:064x}\")\n",
    "    # print(f\"b  = 0x{b_4:x}\")\n",
    "    print(f\"w0 = 0x{product:064x}\")\n",
    "\n",
    "if __name__ == \"__main__\":\n",
    "    main()"
   ]
  },
  {
   "cell_type": "code",
   "execution_count": null,
   "metadata": {},
   "outputs": [
    {
     "name": "stdout",
     "output_type": "stream",
     "text": [
      "Result: 0x78797a7b6d6c6f6e52535051474645443c3d3e3f29282b2a9e9f9c9d8b8a8988\n"
     ]
    }
   ],
   "source": [
    "# The four blocks we identified\n",
    "block1 = 0x0F0E0D0C0B0A090807060504030201000F0E0D0C0B0A09080706050403020100\n",
    "block2 = 0x1111111100000000ffffffffeeeeeeeeddddddddccccccccbbbbbbbbaaaaaaaa\n",
    "block3 = 0x9999999988888888777777776666666655555555444444443333333322222222\n",
    "block4 = 0xffffffffeeeeeeeeddddddddccccccccbbbbbbbbaaaaaaaa1111111100000000\n",
    "\n",
    "block4 = 0x0d0f090b050701030e0c0a08060402000d0f090b050701030e0c0a0806040200\n",
    "block5 = 0x2222222200000000ddddddddffffffff99999999bbbbbbbb5555555577777777\n",
    "block6 = 0x1111111133333333eeeeeeeeccccccccaaaaaaaa888888886666666644444444\n",
    "block7 = 0xddddddddffffffff99999999bbbbbbbb55555555777777772222222200000000\n",
    "# XOR all blocks together\n",
    "# result = block1 ^ block2 ^ block3 ^ block4\n",
    "result = block4 ^ block5 ^ block6 ^ block7\n",
    "# Print result in hexadecimal format\n",
    "print(f\"Result: {hex(result)}\")"
   ]
  },
  {
   "cell_type": "code",
   "execution_count": null,
   "metadata": {},
   "outputs": [],
   "source": []
  }
 ],
 "metadata": {
  "kernelspec": {
   "display_name": "opentitan",
   "language": "python",
   "name": "python3"
  },
  "language_info": {
   "codemirror_mode": {
    "name": "ipython",
    "version": 3
   },
   "file_extension": ".py",
   "mimetype": "text/x-python",
   "name": "python",
   "nbconvert_exporter": "python",
   "pygments_lexer": "ipython3",
   "version": "3.11.11"
  }
 },
 "nbformat": 4,
 "nbformat_minor": 2
}
